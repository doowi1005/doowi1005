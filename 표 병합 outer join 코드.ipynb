{
 "cells": [
  {
   "cell_type": "code",
   "execution_count": 15,
   "metadata": {},
   "outputs": [
    {
     "name": "stderr",
     "output_type": "stream",
     "text": [
      "C:\\Users\\cnxk\\anaconda3\\lib\\site-packages\\ipykernel_launcher.py:14: DeprecationWarning: The default dtype for empty Series will be 'object' instead of 'float64' in a future version. Specify a dtype explicitly to silence this warning.\n",
      "  \n"
     ]
    }
   ],
   "source": [
    "# max row, columns 셋팅\n",
    "import pandas as pd\n",
    "pd.set_option('display.max_rows', 1000)\n",
    "pd.set_option('display.max_columns', 500)\n",
    "import numpy as np\n",
    "from pandas import DataFrame, Series\n",
    "import os\n",
    "import datetime\n",
    "import re\n",
    "######################mapping 표 불러오기################\n",
    "\n",
    "sheet=[' Global  IM_Wearable Visit',' GDC  Smart Watch Total Visit',' GDC  Hearable Total Visit']\n",
    "\n",
    "allpage=Series()\n",
    "for i in range(0,len(sheet)):\n",
    "    allpage[sheet[i]]= pd.read_excel('C:/Users/cnxk/im_wearable.xlsx',\n",
    "\n",
    "                              sheet_name = sheet[i], \n",
    "\n",
    "                              header = 1, \n",
    "\n",
    "                              thousands = ','  )   \n",
    "    allpage[sheet[i]]=allpage[sheet[i]].dropna(axis=1,how='all')#첫째열은 전체 빈행->삭제해주기\n",
    "    \n",
    "    "
   ]
  },
  {
   "cell_type": "code",
   "execution_count": 16,
   "metadata": {},
   "outputs": [
    {
     "data": {
      "text/plain": [
       " Global  IM_Wearable Visit                                            All Page ...\n",
       " GDC  Smart Watch Total Visit                                       All Page Tr...\n",
       " GDC  Hearable Total Visit                          All Page Track (p6)  294853...\n",
       "dtype: object"
      ]
     },
     "execution_count": 16,
     "metadata": {},
     "output_type": "execute_result"
    }
   ],
   "source": [
    "allpage"
   ]
  },
  {
   "cell_type": "code",
   "execution_count": 24,
   "metadata": {},
   "outputs": [
    {
     "data": {
      "text/html": [
       "<div>\n",
       "<style scoped>\n",
       "    .dataframe tbody tr th:only-of-type {\n",
       "        vertical-align: middle;\n",
       "    }\n",
       "\n",
       "    .dataframe tbody tr th {\n",
       "        vertical-align: top;\n",
       "    }\n",
       "\n",
       "    .dataframe thead th {\n",
       "        text-align: right;\n",
       "    }\n",
       "</style>\n",
       "<table border=\"1\" class=\"dataframe\">\n",
       "  <thead>\n",
       "    <tr style=\"text-align: right;\">\n",
       "      <th></th>\n",
       "      <th>All Page Track (p6)</th>\n",
       "      <th>808330658</th>\n",
       "    </tr>\n",
       "  </thead>\n",
       "  <tbody>\n",
       "    <tr>\n",
       "      <th>0</th>\n",
       "      <td>product detail</td>\n",
       "      <td>526947571</td>\n",
       "    </tr>\n",
       "    <tr>\n",
       "      <th>1</th>\n",
       "      <td>product finder</td>\n",
       "      <td>194820492</td>\n",
       "    </tr>\n",
       "    <tr>\n",
       "      <th>2</th>\n",
       "      <td>product category details</td>\n",
       "      <td>74643542</td>\n",
       "    </tr>\n",
       "    <tr>\n",
       "      <th>3</th>\n",
       "      <td>product offer detail</td>\n",
       "      <td>67084829</td>\n",
       "    </tr>\n",
       "    <tr>\n",
       "      <th>4</th>\n",
       "      <td>product search</td>\n",
       "      <td>38789901</td>\n",
       "    </tr>\n",
       "    <tr>\n",
       "      <th>...</th>\n",
       "      <td>...</td>\n",
       "      <td>...</td>\n",
       "    </tr>\n",
       "    <tr>\n",
       "      <th>11121</th>\n",
       "      <td>br:campaign:seda:style-s51-pro:home:loadtime:692</td>\n",
       "      <td>1</td>\n",
       "    </tr>\n",
       "    <tr>\n",
       "      <th>11122</th>\n",
       "      <td>br:campaign:seda:style-s51-pro:mobile:home:loa...</td>\n",
       "      <td>1</td>\n",
       "    </tr>\n",
       "    <tr>\n",
       "      <th>11123</th>\n",
       "      <td>br:campaign:seda:style-s51:mobile:home:loadtim...</td>\n",
       "      <td>1</td>\n",
       "    </tr>\n",
       "    <tr>\n",
       "      <th>11124</th>\n",
       "      <td>br:campaign:seda:style-s51-pro:mobile:home:loa...</td>\n",
       "      <td>1</td>\n",
       "    </tr>\n",
       "    <tr>\n",
       "      <th>11125</th>\n",
       "      <td>br:campaign:seda:a80-free-fire:mobile:main:loa...</td>\n",
       "      <td>1</td>\n",
       "    </tr>\n",
       "  </tbody>\n",
       "</table>\n",
       "<p>11126 rows × 2 columns</p>\n",
       "</div>"
      ],
      "text/plain": [
       "                                     All Page Track (p6)  808330658\n",
       "0                                         product detail  526947571\n",
       "1                                         product finder  194820492\n",
       "2                               product category details   74643542\n",
       "3                                   product offer detail   67084829\n",
       "4                                         product search   38789901\n",
       "...                                                  ...        ...\n",
       "11121   br:campaign:seda:style-s51-pro:home:loadtime:692          1\n",
       "11122  br:campaign:seda:style-s51-pro:mobile:home:loa...          1\n",
       "11123  br:campaign:seda:style-s51:mobile:home:loadtim...          1\n",
       "11124  br:campaign:seda:style-s51-pro:mobile:home:loa...          1\n",
       "11125  br:campaign:seda:a80-free-fire:mobile:main:loa...          1\n",
       "\n",
       "[11126 rows x 2 columns]"
      ]
     },
     "execution_count": 24,
     "metadata": {},
     "output_type": "execute_result"
    }
   ],
   "source": [
    "a=allpage[' Global  IM_Wearable Visit']\n",
    "a"
   ]
  },
  {
   "cell_type": "code",
   "execution_count": 18,
   "metadata": {},
   "outputs": [],
   "source": [
    "b=allpage[' GDC  Smart Watch Total Visit']"
   ]
  },
  {
   "cell_type": "code",
   "execution_count": 20,
   "metadata": {},
   "outputs": [],
   "source": [
    "c=allpage[' GDC  Hearable Total Visit']"
   ]
  },
  {
   "cell_type": "code",
   "execution_count": 27,
   "metadata": {},
   "outputs": [],
   "source": [
    "d = pd.merge(a,b, left_on='All Page Track (p6)', right_on='All Page Track (p6)', how='outer')"
   ]
  },
  {
   "cell_type": "code",
   "execution_count": 28,
   "metadata": {},
   "outputs": [],
   "source": [
    "join = pd.merge(d,c, left_on='All Page Track (p6)', right_on='All Page Track (p6)', how='outer')"
   ]
  },
  {
   "cell_type": "code",
   "execution_count": 29,
   "metadata": {},
   "outputs": [
    {
     "data": {
      "text/html": [
       "<div>\n",
       "<style scoped>\n",
       "    .dataframe tbody tr th:only-of-type {\n",
       "        vertical-align: middle;\n",
       "    }\n",
       "\n",
       "    .dataframe tbody tr th {\n",
       "        vertical-align: top;\n",
       "    }\n",
       "\n",
       "    .dataframe thead th {\n",
       "        text-align: right;\n",
       "    }\n",
       "</style>\n",
       "<table border=\"1\" class=\"dataframe\">\n",
       "  <thead>\n",
       "    <tr style=\"text-align: right;\">\n",
       "      <th></th>\n",
       "      <th>All Page Track (p6)</th>\n",
       "      <th>808330658</th>\n",
       "      <th>45192403</th>\n",
       "      <th>29485360</th>\n",
       "    </tr>\n",
       "  </thead>\n",
       "  <tbody>\n",
       "    <tr>\n",
       "      <th>0</th>\n",
       "      <td>product detail</td>\n",
       "      <td>526947571.0</td>\n",
       "      <td>37483542.0</td>\n",
       "      <td>26833858.0</td>\n",
       "    </tr>\n",
       "    <tr>\n",
       "      <th>1</th>\n",
       "      <td>product finder</td>\n",
       "      <td>194820492.0</td>\n",
       "      <td>NaN</td>\n",
       "      <td>3195851.0</td>\n",
       "    </tr>\n",
       "    <tr>\n",
       "      <th>2</th>\n",
       "      <td>product category details</td>\n",
       "      <td>74643542.0</td>\n",
       "      <td>NaN</td>\n",
       "      <td>1140190.0</td>\n",
       "    </tr>\n",
       "    <tr>\n",
       "      <th>3</th>\n",
       "      <td>product offer detail</td>\n",
       "      <td>67084829.0</td>\n",
       "      <td>48304.0</td>\n",
       "      <td>315767.0</td>\n",
       "    </tr>\n",
       "    <tr>\n",
       "      <th>4</th>\n",
       "      <td>product search</td>\n",
       "      <td>38789901.0</td>\n",
       "      <td>107.0</td>\n",
       "      <td>1274683.0</td>\n",
       "    </tr>\n",
       "    <tr>\n",
       "      <th>...</th>\n",
       "      <td>...</td>\n",
       "      <td>...</td>\n",
       "      <td>...</td>\n",
       "      <td>...</td>\n",
       "    </tr>\n",
       "    <tr>\n",
       "      <th>15797</th>\n",
       "      <td>styling-your-home-around-suhd-tv</td>\n",
       "      <td>NaN</td>\n",
       "      <td>NaN</td>\n",
       "      <td>1.0</td>\n",
       "    </tr>\n",
       "    <tr>\n",
       "      <th>15798</th>\n",
       "      <td>a71a51</td>\n",
       "      <td>NaN</td>\n",
       "      <td>NaN</td>\n",
       "      <td>1.0</td>\n",
       "    </tr>\n",
       "    <tr>\n",
       "      <th>15799</th>\n",
       "      <td>smarrtphones</td>\n",
       "      <td>NaN</td>\n",
       "      <td>NaN</td>\n",
       "      <td>1.0</td>\n",
       "    </tr>\n",
       "    <tr>\n",
       "      <th>15800</th>\n",
       "      <td>tallk estudio</td>\n",
       "      <td>NaN</td>\n",
       "      <td>NaN</td>\n",
       "      <td>1.0</td>\n",
       "    </tr>\n",
       "    <tr>\n",
       "      <th>15801</th>\n",
       "      <td>picture-quality</td>\n",
       "      <td>NaN</td>\n",
       "      <td>NaN</td>\n",
       "      <td>1.0</td>\n",
       "    </tr>\n",
       "  </tbody>\n",
       "</table>\n",
       "<p>15802 rows × 4 columns</p>\n",
       "</div>"
      ],
      "text/plain": [
       "                    All Page Track (p6)    808330658    45192403    29485360\n",
       "0                        product detail  526947571.0  37483542.0  26833858.0\n",
       "1                        product finder  194820492.0         NaN   3195851.0\n",
       "2              product category details   74643542.0         NaN   1140190.0\n",
       "3                  product offer detail   67084829.0     48304.0    315767.0\n",
       "4                        product search   38789901.0       107.0   1274683.0\n",
       "...                                 ...          ...         ...         ...\n",
       "15797  styling-your-home-around-suhd-tv          NaN         NaN         1.0\n",
       "15798                            a71a51          NaN         NaN         1.0\n",
       "15799                      smarrtphones          NaN         NaN         1.0\n",
       "15800                     tallk estudio          NaN         NaN         1.0\n",
       "15801                   picture-quality          NaN         NaN         1.0\n",
       "\n",
       "[15802 rows x 4 columns]"
      ]
     },
     "execution_count": 29,
     "metadata": {},
     "output_type": "execute_result"
    }
   ],
   "source": [
    "join"
   ]
  },
  {
   "cell_type": "code",
   "execution_count": null,
   "metadata": {},
   "outputs": [],
   "source": []
  }
 ],
 "metadata": {
  "kernelspec": {
   "display_name": "Python 3",
   "language": "python",
   "name": "python3"
  },
  "language_info": {
   "codemirror_mode": {
    "name": "ipython",
    "version": 3
   },
   "file_extension": ".py",
   "mimetype": "text/x-python",
   "name": "python",
   "nbconvert_exporter": "python",
   "pygments_lexer": "ipython3",
   "version": "3.7.6"
  }
 },
 "nbformat": 4,
 "nbformat_minor": 4
}
